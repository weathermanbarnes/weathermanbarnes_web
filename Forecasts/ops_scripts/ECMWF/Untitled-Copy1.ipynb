{
 "cells": [
  {
   "cell_type": "code",
   "execution_count": 3,
   "id": "f11b3f09-4846-40a1-b224-32850e13ce29",
   "metadata": {},
   "outputs": [],
   "source": [
    "import os\n",
    "import numpy as np\n",
    "import xarray as xr\n",
    "from datetime import datetime,timedelta,date\n",
    "from dateutil.relativedelta import relativedelta\n",
    "import gc\n",
    "\n",
    "from sort_ECMWF_data import *\n",
    "from plot_map_functions import *\n",
    "\n",
    "#import argparse\n",
    "#parser = argparse.ArgumentParser()\n",
    "#parser.add_argument(\"date\",help=\"init date\",type=str)\n",
    "#parser.add_argument(\"run\",help=\"init run\",type=int)\n",
    "#parser.add_argument(\"day\",help=\"in timestep\",type=int)\n",
    "#parser.add_argument(\"set_hemisphere\",help=\"init date\",type=str)\n",
    "#args = parser.parse_args()\n",
    "#day = args.day\n",
    "#INDATEstr = args.date\n",
    "#RUN = args.run\n",
    "#set_hemisphere = args.set_hemisphere\n",
    "\n",
    "INDATEstr='20240826'\n",
    "RUN=12\n",
    "day=1\n",
    "set_hemisphere='SH'"
   ]
  },
  {
   "cell_type": "code",
   "execution_count": 1,
   "id": "42a6b40b-441e-4da2-8e6e-d09a166c43f9",
   "metadata": {},
   "outputs": [
    {
     "data": {
      "text/plain": [
       "'/g/data/gb02/mb0427/Website/Forecasts/ops_scripts/ECMWF'"
      ]
     },
     "execution_count": 1,
     "metadata": {},
     "output_type": "execute_result"
    }
   ],
   "source": [
    "files = os.listdir(indir)\n",
    "for type in plottypes:\n",
    "    for domain in domains:\n",
    "        outdir=webdir+'/'+model+'/'+domain+'/'+type+'/'\n",
    "        isExist = os.path.exists(outdir)\n",
    "        if not isExist:\n",
    "            os.makedirs(outdir)\n",
    "        for file in files:\n",
    "            full_file_name = os.path.join(indir, file)\n",
    "            if file.startswith(model+\"_\"+domain+\"_\"+type+\"_\"):\n",
    "                shutil.copy(full_file_name, outdir)\n",
    "                os.rename(os.path.join(outdir, file), os.path.join(outdir, file).replace(domain+'_', ''))"
   ]
  },
  {
   "cell_type": "code",
   "execution_count": 3,
   "id": "e1d2f595-f565-4a0c-a240-40f0a9ed70cd",
   "metadata": {},
   "outputs": [],
   "source": [
    "model='ECMWF-IFS'\n",
    "#if set_hemisphere=='SH':\n",
    "#    domains=['SH','Australia','SouthernAfrica','SouthAmerica','IndianOcean']\n",
    "#if set_hemisphere=='NH':\n",
    "#    domains=['NH','NorthAmerica','Europe','NorthAfrica','Asia']\n",
    "domains=['SH','Australia','SouthernAfrica','SouthAmerica','IndianOcean',\n",
    "         'NH','NorthAmerica','Europe','NorthAfrica','Asia']\n",
    "plottypes=['UpperLevel',\n",
    "            'Precip6H',\n",
    "            'QvecPTE850',\n",
    "            'IVT',\n",
    "            'IPV-320K',\n",
    "            'IPV-330K',\n",
    "            'IPV-350K',\n",
    "            'IrrotPV']"
   ]
  },
  {
   "cell_type": "code",
   "execution_count": 4,
   "id": "f237a137-bac6-40d5-b9e2-061073a23ead",
   "metadata": {},
   "outputs": [],
   "source": [
    "import os\n",
    "import shutil\n",
    "from datetime import datetime, timedelta\n",
    "home_path='/g/data/gb02/mb0427/Website/Forecasts/ops_scripts/ECMWF/'\n",
    "indir=home_path+'scratch/IFS/'\n",
    "files = os.listdir(indir+\"images/\")\n",
    "for type in plottypes:\n",
    "    for domain in domains:\n",
    "        outdir=indir+\"images/_to_website/\"+domain+'/'+type+'/'\n",
    "        isExist = os.path.exists(outdir)\n",
    "        if not isExist:\n",
    "            os.makedirs(outdir)\n",
    "        for file in files:\n",
    "            full_file_name = os.path.join(indir+\"images/\", file)\n",
    "            if file.startswith(model+\"_\"+domain+\"_\"+type+\"_\"):\n",
    "                shutil.copy(full_file_name, outdir)"
   ]
  },
  {
   "cell_type": "code",
   "execution_count": null,
   "id": "d1b500b0-1296-4b32-be53-10af730b3b5d",
   "metadata": {},
   "outputs": [],
   "source": []
  }
 ],
 "metadata": {
  "kernelspec": {
   "display_name": "Python [conda env:analysis3-24.04] *",
   "language": "python",
   "name": "conda-env-analysis3-24.04-py"
  },
  "language_info": {
   "codemirror_mode": {
    "name": "ipython",
    "version": 3
   },
   "file_extension": ".py",
   "mimetype": "text/x-python",
   "name": "python",
   "nbconvert_exporter": "python",
   "pygments_lexer": "ipython3",
   "version": "3.10.14"
  }
 },
 "nbformat": 4,
 "nbformat_minor": 5
}
